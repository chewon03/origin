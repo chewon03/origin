{
  "nbformat": 4,
  "nbformat_minor": 0,
  "metadata": {
    "colab": {
      "name": "Hyperparameter Tuning 과제.ipynb",
      "provenance": [],
      "collapsed_sections": [],
      "include_colab_link": true
    },
    "kernelspec": {
      "display_name": "Python 3",
      "language": "python",
      "name": "python3"
    },
    "language_info": {
      "codemirror_mode": {
        "name": "ipython",
        "version": 3
      },
      "file_extension": ".py",
      "mimetype": "text/x-python",
      "name": "python",
      "nbconvert_exporter": "python",
      "pygments_lexer": "ipython3",
      "version": "3.9.6"
    },
    "toc": {
      "base_numbering": 1,
      "nav_menu": {},
      "number_sections": false,
      "sideBar": true,
      "skip_h1_title": false,
      "title_cell": "Table of Contents",
      "title_sidebar": "Contents",
      "toc_cell": false,
      "toc_position": {
        "height": "calc(100% - 180px)",
        "left": "10px",
        "top": "150px",
        "width": "165px"
      },
      "toc_section_display": true,
      "toc_window_display": true
    },
    "varInspector": {
      "cols": {
        "lenName": 16,
        "lenType": 16,
        "lenVar": 40
      },
      "kernels_config": {
        "python": {
          "delete_cmd_postfix": "",
          "delete_cmd_prefix": "del ",
          "library": "var_list.py",
          "varRefreshCmd": "print(var_dic_list())"
        },
        "r": {
          "delete_cmd_postfix": ") ",
          "delete_cmd_prefix": "rm(",
          "library": "var_list.r",
          "varRefreshCmd": "cat(var_dic_list()) "
        }
      },
      "types_to_exclude": [
        "module",
        "function",
        "builtin_function_or_method",
        "instance",
        "_Feature"
      ],
      "window_display": false
    }
  },
  "cells": [
    {
      "cell_type": "markdown",
      "metadata": {
        "id": "view-in-github",
        "colab_type": "text"
      },
      "source": [
        "<a href=\"https://colab.research.google.com/github/chewon03/origin/blob/main/Ybigta%20%EA%B3%BC%EC%A0%9C/%EC%A3%BC%EB%8B%88%EC%96%B4%20%EA%B5%90%EC%9C%A1%EC%84%B8%EC%85%98/Hyperparameter_Tuning_%EA%B3%BC%EC%A0%9C.ipynb\" target=\"_parent\"><img src=\"https://colab.research.google.com/assets/colab-badge.svg\" alt=\"Open In Colab\"/></a>"
      ]
    },
    {
      "cell_type": "markdown",
      "metadata": {
        "id": "gLQCzvw0JYlf"
      },
      "source": [
        "# Hyperparameter Tuning 과제\n",
        "\n",
        "- Manual Search\n",
        "- Random Search (Grid Search 참고)\n",
        "- Bayesian Optimization using HyperOpt\n",
        "<br>연습해보기!"
      ]
    },
    {
      "cell_type": "code",
      "metadata": {
        "ExecuteTime": {
          "end_time": "2021-09-24T20:46:43.988763Z",
          "start_time": "2021-09-24T20:46:43.952056Z"
        },
        "id": "1sDnWUqtJYlg"
      },
      "source": [
        "from sklearn.model_selection import train_test_split\n",
        "from sklearn.linear_model import LogisticRegression\n",
        "from sklearn.metrics import confusion_matrix, accuracy_score, classification_report\n",
        "from sklearn.datasets import load_iris\n",
        "import warnings\n",
        "warnings.filterwarnings('ignore')\n",
        "import time\n",
        "from functools import partial"
      ],
      "execution_count": null,
      "outputs": []
    },
    {
      "cell_type": "code",
      "metadata": {
        "ExecuteTime": {
          "end_time": "2021-09-24T20:46:44.961821Z",
          "start_time": "2021-09-24T20:46:44.943070Z"
        },
        "id": "rA3eO5blJYlr"
      },
      "source": [
        "iris = load_iris()\n",
        "\n",
        "X = iris.data\n",
        "y = iris.target"
      ],
      "execution_count": null,
      "outputs": []
    },
    {
      "cell_type": "code",
      "metadata": {
        "ExecuteTime": {
          "end_time": "2021-09-24T20:58:53.910634Z",
          "start_time": "2021-09-24T20:58:53.859317Z"
        },
        "id": "R6305NrasoYk"
      },
      "source": [
        "X_train, X_test, y_train, y_test = train_test_split(X, y, random_state=23)"
      ],
      "execution_count": null,
      "outputs": []
    },
    {
      "cell_type": "markdown",
      "metadata": {
        "id": "gyhhqrxrsoYl"
      },
      "source": [
        "## 1. Manual Search\n",
        "사이킷런 Logistic Regresstion https://scikit-learn.org/stable/modules/generated/sklearn.linear_model.LogisticRegression.html?highlight=logistic%20regression#sklearn.linear_model.LogisticRegression"
      ]
    },
    {
      "cell_type": "code",
      "metadata": {
        "ExecuteTime": {
          "end_time": "2021-09-24T21:00:41.903089Z",
          "start_time": "2021-09-24T21:00:41.725376Z"
        },
        "scrolled": false,
        "id": "h_Exh_OQsoYl",
        "colab": {
          "base_uri": "https://localhost:8080/",
          "height": 224
        },
        "outputId": "0f48a6dd-194c-4cfb-a3df-e629564f9b93"
      },
      "source": [
        "'''\n",
        "maunal 1 \n",
        "'''\n",
        "\n",
        "manual1 = LogisticRegression( random_state=50\n",
        "    # 첨부한 링크에 있는 사이킷런 도큐먼트를 참고하여 원하는대로 하이퍼파라미터 값을 넣어주세요\n",
        ")\n",
        "\n",
        "manual1.fit(X_train,y_train)\n",
        "y_pred = manual1.predict(X_train)\n",
        "\n",
        "# 정확도를 계산해주세요\n",
        "accuracy_score = accuracy_score(y_train, y_pred)\n",
        "accuracy_score\n"
      ],
      "execution_count": null,
      "outputs": [
        {
          "output_type": "error",
          "ename": "TypeError",
          "evalue": "ignored",
          "traceback": [
            "\u001b[0;31m---------------------------------------------------------------------------\u001b[0m",
            "\u001b[0;31mTypeError\u001b[0m                                 Traceback (most recent call last)",
            "\u001b[0;32m<ipython-input-8-1c41b883ad85>\u001b[0m in \u001b[0;36m<module>\u001b[0;34m()\u001b[0m\n\u001b[1;32m     11\u001b[0m \u001b[0;34m\u001b[0m\u001b[0m\n\u001b[1;32m     12\u001b[0m \u001b[0;31m# 정확도를 계산해주세요\u001b[0m\u001b[0;34m\u001b[0m\u001b[0;34m\u001b[0m\u001b[0;34m\u001b[0m\u001b[0m\n\u001b[0;32m---> 13\u001b[0;31m \u001b[0maccuracy_score\u001b[0m \u001b[0;34m=\u001b[0m \u001b[0maccuracy_score\u001b[0m\u001b[0;34m(\u001b[0m\u001b[0my_train\u001b[0m\u001b[0;34m,\u001b[0m \u001b[0my_pred\u001b[0m\u001b[0;34m)\u001b[0m\u001b[0;34m\u001b[0m\u001b[0;34m\u001b[0m\u001b[0m\n\u001b[0m\u001b[1;32m     14\u001b[0m \u001b[0maccuracy_score\u001b[0m\u001b[0;34m\u001b[0m\u001b[0;34m\u001b[0m\u001b[0m\n",
            "\u001b[0;31mTypeError\u001b[0m: 'numpy.float64' object is not callable"
          ]
        }
      ]
    },
    {
      "cell_type": "code",
      "source": [
        "'''\n",
        "maunal 2 \n",
        "'''\n",
        "# 다양한 하이퍼파라미터 값을 사용하여 또 다른 manual search를 해보세요\n",
        "# manual1 에 비해 정확도가 더 높아지면 더 좋습니다 !\n",
        "\n",
        "manual2 = LogisticRegression(random_state=101, penalty='none', dual=False\n",
        "    # 첨부한 링크에 있는 사이킷런 도큐먼트를 참고하여 원하는대로 하이퍼파라미터 값을 넣어주세요\n",
        ")\n",
        "\n",
        "manual2.fit(X_train,y_train)\n",
        "y_pred = manual2.predict(X_train)\n",
        "\n",
        "# 정확도를 계산해주세요\n",
        "accuracy_score_2 = accuracy_score(y_train, y_pred)\n",
        "accuracy_score_2\n"
      ],
      "metadata": {
        "id": "i0RC67jrOQ0j",
        "colab": {
          "base_uri": "https://localhost:8080/",
          "height": 224
        },
        "outputId": "f99ca9ea-0213-4e83-f2ce-f8a1ffcd31e2"
      },
      "execution_count": null,
      "outputs": [
        {
          "output_type": "error",
          "ename": "TypeError",
          "evalue": "ignored",
          "traceback": [
            "\u001b[0;31m---------------------------------------------------------------------------\u001b[0m",
            "\u001b[0;31mTypeError\u001b[0m                                 Traceback (most recent call last)",
            "\u001b[0;32m<ipython-input-9-983c5761c94f>\u001b[0m in \u001b[0;36m<module>\u001b[0;34m()\u001b[0m\n\u001b[1;32m     13\u001b[0m \u001b[0;34m\u001b[0m\u001b[0m\n\u001b[1;32m     14\u001b[0m \u001b[0;31m# 정확도를 계산해주세요\u001b[0m\u001b[0;34m\u001b[0m\u001b[0;34m\u001b[0m\u001b[0;34m\u001b[0m\u001b[0m\n\u001b[0;32m---> 15\u001b[0;31m \u001b[0maccuracy_score_2\u001b[0m \u001b[0;34m=\u001b[0m \u001b[0maccuracy_score\u001b[0m\u001b[0;34m(\u001b[0m\u001b[0my_train\u001b[0m\u001b[0;34m,\u001b[0m \u001b[0my_pred\u001b[0m\u001b[0;34m)\u001b[0m\u001b[0;34m\u001b[0m\u001b[0;34m\u001b[0m\u001b[0m\n\u001b[0m\u001b[1;32m     16\u001b[0m \u001b[0maccuracy_score_2\u001b[0m\u001b[0;34m\u001b[0m\u001b[0;34m\u001b[0m\u001b[0m\n",
            "\u001b[0;31mTypeError\u001b[0m: 'numpy.float64' object is not callable"
          ]
        }
      ]
    },
    {
      "cell_type": "markdown",
      "metadata": {
        "id": "FJuP0s1VJYl2"
      },
      "source": [
        "## 2. Grid Search"
      ]
    },
    {
      "cell_type": "code",
      "metadata": {
        "ExecuteTime": {
          "end_time": "2021-09-24T20:46:52.466208Z",
          "start_time": "2021-09-24T20:46:48.233455Z"
        },
        "id": "-vm5xBoDJYl3"
      },
      "source": [
        "from sklearn.model_selection import GridSearchCV\n",
        "\n",
        "# 파라미터 후보 설정\n",
        "param_grid = {'C': [0.001, 0.01, 0.1, 1, 10, 100],\n",
        "              'max_iter' : [100, 500, 1000, 1500, 2000]}\n",
        "\n",
        "# 그리드 서치 호출\n",
        "grid_search = GridSearchCV(LogisticRegression(), param_grid, cv=5, return_train_score=True)   \n",
        "\n",
        "# 데이터 분할\n",
        "X_train, X_test, y_train, y_test = train_test_split(X, y, random_state=23)\n",
        "\n",
        "start = time.time()\n",
        "# 모델 적합\n",
        "grid_search.fit(X_train, y_train)\n",
        "\n",
        "# 모델 평가\n",
        "print(f\"test set score : {grid_search.score(X_test, y_test)}\")\n",
        "\n",
        "print(f\"best parameters: {grid_search.best_params_}\")\n",
        "print(f\"best CV score: {grid_search.best_score_}\")\n",
        "\n",
        "# 소요 시간 측정\n",
        "print(\"time :\", time.time() - start)"
      ],
      "execution_count": null,
      "outputs": []
    },
    {
      "cell_type": "markdown",
      "metadata": {
        "id": "qDzu1DN5JYl-"
      },
      "source": [
        "## 3. Random Search\n",
        "grid search 코드와 매우 유사하니 참고해서 빈칸 채워주세요 !"
      ]
    },
    {
      "cell_type": "code",
      "metadata": {
        "ExecuteTime": {
          "end_time": "2021-09-24T20:42:41.866511Z",
          "start_time": "2021-09-24T20:42:41.835657Z"
        },
        "id": "iEpwD9lsJYl_"
      },
      "source": [
        "from sklearn.model_selection import RandomizedSearchCV\n",
        "\n",
        "# 파라미터 후보 설정\n",
        "param_grid = {'C': [0.001, 0.01, 0.1, 1, 10, 100],\n",
        "              'max_iter' : [100, 500, 1000, 1500, 2000]}\n",
        "\n",
        "# 그리드 서치 호출\n",
        "grid_search = GridSearchCV(LogisticRegression(), param_grid, cv=5, return_train_score=True)   \n",
        "\n",
        "# 데이터 분할\n",
        "X_train, X_test, y_train, y_test = train_test_split(X, y, random_state=23)\n",
        "start = time.time()\n",
        "\n",
        "# 모델 적합\n",
        "grid_search.fit(X_train, y_train)\n",
        "\n",
        "# 모델 평가\n",
        "print(f\"test set score : {grid_search.score(X_test, y_test)}\")\n",
        "\n",
        "# 소요 시간 측정\n",
        "print(\"time :\", time.time() - start)"
      ],
      "execution_count": null,
      "outputs": []
    },
    {
      "cell_type": "markdown",
      "metadata": {
        "id": "Xdm1vVy2JYmN"
      },
      "source": [
        "## 4. HyperOpt"
      ]
    },
    {
      "cell_type": "code",
      "metadata": {
        "ExecuteTime": {
          "end_time": "2021-09-24T17:08:35.707056Z",
          "start_time": "2021-09-24T17:08:29.489528Z"
        },
        "id": "Kng8KkvUsoYn"
      },
      "source": [
        "!pip install hyperopt"
      ],
      "execution_count": null,
      "outputs": []
    },
    {
      "cell_type": "code",
      "metadata": {
        "ExecuteTime": {
          "end_time": "2021-09-24T21:31:05.279023Z",
          "start_time": "2021-09-24T21:31:03.139368Z"
        },
        "scrolled": true,
        "id": "buTAAPeisoYo"
      },
      "source": [
        "from hyperopt import hp, fmin, tpe, STATUS_OK, Trials\n",
        "\n",
        "space = {\n",
        "    'penalty' : hp.choice('penalty', ['l1', 'l2', 'elasticnet', 'none']), \n",
        "    'fit_intercept' : hp.choice('fit_intercept', [True, False]),\n",
        "    'max_iter' : hp.uniform('max_iter', 100,1000)\n",
        "}\n",
        "\n",
        "def objective(space):\n",
        "    model = LogisticRegression('penalty' : hp.choice('penalty',['11', '12'])\n",
        "                               'fit_intercept' : hp.choice['fit_intercept', [True, False]],\n",
        "                               'max_iter' : hp.uniform['max_iter', 100, 1000]\n",
        "                              )\n",
        "    \n",
        "    accuracy = cross_val_score(model, X_train, y_train, cv = 4).mean()\n",
        "\n",
        "    return {'loss': -accuracy, 'status': STATUS_OK }\n",
        "    \n",
        "trials = Trials()\n",
        "best = fmin(fn= objective,\n",
        "            space= space,\n",
        "            algo= tpe.suggest,\n",
        "            max_evals = 20,\n",
        "            trials= trials)\n",
        "best"
      ],
      "execution_count": null,
      "outputs": []
    },
    {
      "cell_type": "code",
      "metadata": {
        "ExecuteTime": {
          "end_time": "2021-09-24T21:36:32.724645Z",
          "start_time": "2021-09-24T21:36:32.590849Z"
        },
        "id": "NCd8oFwXsoYo"
      },
      "source": [
        "from sklearn.metrics import classification_report,confusion_matrix\n",
        "from sklearn.metrics import accuracy_score\n",
        "\n",
        "pen = {0: 'l1', 1: 'l2', 2: 'elasticnet', 3: None}\n",
        "incpt = {0: True, 1: False}\n",
        "\n",
        "trained = LogisticRegression(penalty = pen[best['penalty']],\n",
        "                             fit_intercept = incpt[best['fit_intercept']],\n",
        "                             solver='liblinear'\n",
        "                            ).fit(X_train,y_train)\n",
        "\n",
        "# 정확도 도출 부분까지 코드 짜시면 됩니다!"
      ],
      "execution_count": null,
      "outputs": []
    },
    {
      "cell_type": "markdown",
      "metadata": {
        "id": "wEcAD9_ZsoYp"
      },
      "source": [
        "## 선택) Bayesian Optimization 사용\n"
      ]
    },
    {
      "cell_type": "code",
      "metadata": {
        "id": "LMx-5StQsoYp"
      },
      "source": [
        "!pip install bayesian-optimization"
      ],
      "execution_count": null,
      "outputs": []
    },
    {
      "cell_type": "code",
      "metadata": {
        "id": "qTLHHCvFsoYp"
      },
      "source": [
        "from bayes_opt import BayesianOptimization"
      ],
      "execution_count": null,
      "outputs": []
    }
  ]
}
{
  "nbformat": 4,
  "nbformat_minor": 0,
  "metadata": {
    "colab": {
      "name": "02.크롤링과제.ipynb",
      "provenance": []
    },
    "kernelspec": {
      "name": "python3",
      "display_name": "Python 3"
    },
    "language_info": {
      "name": "python"
    }
  },
  "cells": [
    {
      "cell_type": "code",
      "execution_count": null,
      "metadata": {
        "id": "X9hc2xD_oLDT"
      },
      "outputs": [],
      "source": [
        "!pip3 install requests\n",
        "!pip3 install bs4\n",
        "!pip3 install selenium"
      ]
    },
    {
      "cell_type": "code",
      "source": [
        "from selenium import webdriver\n",
        "import selenium\n",
        "from selenium.webdriver.common.keys import Keys\n",
        "from selenium.webdriver.chrome.service import Service\n",
        "from selenium.webdriver.common.by import By\n",
        "from webdriver_manager.chrome import ChromeDriverManager\n",
        "import time\n",
        "import openpyxl\n",
        "from openpyxl import Workbook"
      ],
      "metadata": {
        "id": "uwJR6IijoL7i"
      },
      "execution_count": null,
      "outputs": []
    },
    {
      "cell_type": "code",
      "source": [
        "from bs4 import BeautifulSoup\n",
        "import requests"
      ],
      "metadata": {
        "id": "yXFYTNO9oO8k"
      },
      "execution_count": null,
      "outputs": []
    },
    {
      "cell_type": "code",
      "source": [
        "response = requests.get('https://www.naver.com')\n",
        "html = response.text\n",
        "soup = BeautifulSoup(html, 'html.parser')"
      ],
      "metadata": {
        "id": "G_QfFIPcoRjS"
      },
      "execution_count": null,
      "outputs": []
    },
    {
      "cell_type": "code",
      "source": [
        "service = Service(executable_path=ChromeDriverManager().install())\n",
        "browser = webdriver.Chrome(service=service)"
      ],
      "metadata": {
        "id": "Gzy69q79oR9y"
      },
      "execution_count": null,
      "outputs": []
    },
    {
      "cell_type": "code",
      "source": [
        "wb = Workbook()\n",
        "sheet = wb.active"
      ],
      "metadata": {
        "id": "ELEqlRusoSMo"
      },
      "execution_count": null,
      "outputs": []
    },
    {
      "cell_type": "code",
      "source": [
        "sheet.append([\"순위\", \"상품명\", \"가격\", \"링크\"])"
      ],
      "metadata": {
        "id": "c8LE4gUDoSPn"
      },
      "execution_count": null,
      "outputs": []
    },
    {
      "cell_type": "code",
      "source": [
        "browser.get(\"https://search.shopping.naver.com/search/all?query=%EC%95%84%EC%9D%B4%ED%8F%B0+13&cat_id=&frm=NVSHATC\")\n",
        "time.sleep(1)"
      ],
      "metadata": {
        "id": "47Miu7VooWZ8"
      },
      "execution_count": null,
      "outputs": []
    },
    {
      "cell_type": "code",
      "source": [
        "search = browser.find_element(By.CSS_SELECTOR, 'input.co_srh_input._input')\n",
        "search.send_keys('아이폰 13')\n",
        "search.send_keys(Keys.ENTER)"
      ],
      "metadata": {
        "id": "yt_mvR73oWdg"
      },
      "execution_count": null,
      "outputs": []
    },
    {
      "cell_type": "code",
      "source": [
        "while True:\n",
        "    browser.find_element(By.CSS_SELECTOR, \"body\").send_keys(Keys.END)\n",
        "    time.sleep(1) \n",
        "    after_h = browser.execute_script(\"return window.scrollY\")\n",
        "\n",
        "    if after_h == before_h:\n",
        "        break\n",
        "    before_h = after_h \n",
        "    \n",
        "items = browser.find_elements(By.CSS_SELECTOR, 'li.basicList_item__2XT81')"
      ],
      "metadata": {
        "id": "u_Lgcq4QoWlG"
      },
      "execution_count": null,
      "outputs": []
    },
    {
      "cell_type": "code",
      "source": [
        "   for item in items:\n",
        "        try :\n",
        "            item.find_element(By.CSS_SELECTOR, 'span.thumbnail_sale__T-L2g').text ==\"hotdeal\"\n",
        "        except:\n",
        "            name = item.find_element(By.CSS_SELECTOR, 'div.basicList_title__3P9Q7').text\n",
        "            price =  item.find_element(By.CSS_SELECTOR, 'span.price_num__2WUXn').text\n",
        "            link = item.find_element(By.CSS_SELECTOR, 'a.basicList_link__1MaTN').get_attribute('href')\n",
        "            \n",
        "            sheet.append([i,  name, price, link])\n",
        "\n",
        "            i += 1"
      ],
      "metadata": {
        "id": "2jrDqS12ocQu"
      },
      "execution_count": null,
      "outputs": []
    },
    {
      "cell_type": "code",
      "source": [
        "wb.save(\"iPhone13.xlsx\")"
      ],
      "metadata": {
        "id": "vh-IQmZYod4E"
      },
      "execution_count": null,
      "outputs": []
    }
  ]
}
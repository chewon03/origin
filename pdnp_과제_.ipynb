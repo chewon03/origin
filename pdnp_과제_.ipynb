{
  "cells": [
    {
      "cell_type": "markdown",
      "metadata": {
        "id": "view-in-github",
        "colab_type": "text"
      },
      "source": [
        "<a href=\"https://colab.research.google.com/github/chewon03/origin/blob/main/pdnp_%EA%B3%BC%EC%A0%9C_.ipynb\" target=\"_parent\"><img src=\"https://colab.research.google.com/assets/colab-badge.svg\" alt=\"Open In Colab\"/></a>"
      ]
    },
    {
      "cell_type": "markdown",
      "metadata": {
        "id": "J_kkHwAf4e0-"
      },
      "source": [
        "## 와인 품질 데이터\n",
        "- 와인 성분 변수들을 이용하여 품질을 예측하는 유명한 데이터 <br> <br>\n"
      ]
    },
    {
      "cell_type": "markdown",
      "source": [
        "# 과제 진행 하실 때, 여기에 직접하시면 전체가 수정됩니다..<br>\n",
        "#따로 다운로드 받으셔서 진행해주시기바랍니다."
      ],
      "metadata": {
        "id": "tLq5MurG-3oW"
      }
    },
    {
      "cell_type": "code",
      "execution_count": null,
      "metadata": {
        "id": "aylbmWoN4e1H"
      },
      "outputs": [],
      "source": [
        "import numpy as np\n",
        "import pandas as pd\n",
        "pd.set_option('display.max_columns', None)\n",
        "pd.set_option('display.max_rows', None)\n",
        "\n",
        "import warnings\n",
        "warnings.filterwarnings(action='ignore')"
      ]
    },
    {
      "cell_type": "markdown",
      "metadata": {
        "id": "2FUlkDfE4e1M"
      },
      "source": [
        "#### 데이터 불러오기 및 앞부분 확인"
      ]
    },
    {
      "cell_type": "code",
      "execution_count": null,
      "metadata": {
        "id": "YnMIySCa8yb6",
        "scrolled": true
      },
      "outputs": [],
      "source": [
        "from google.colab import drive\n",
        "drive.mount('/content/gdrive')"
      ]
    },
    {
      "cell_type": "code",
      "execution_count": null,
      "metadata": {
        "id": "TiRfl9sf4e1O"
      },
      "outputs": [],
      "source": [
        "data = pd.read_csv('wine.csv')\n",
        "data.head()"
      ]
    },
    {
      "cell_type": "markdown",
      "metadata": {
        "id": "LWcBdRDX4e1Q"
      },
      "source": [
        "#### 데이터 shape 확인"
      ]
    },
    {
      "cell_type": "code",
      "execution_count": null,
      "metadata": {
        "id": "BIJRDB4T-1vO"
      },
      "outputs": [],
      "source": [
        ""
      ]
    },
    {
      "cell_type": "markdown",
      "metadata": {
        "id": "mj0eMyx-4e1T"
      },
      "source": [
        "#### 컬럼명 확인"
      ]
    },
    {
      "cell_type": "code",
      "execution_count": null,
      "metadata": {
        "id": "GYpLp4M94e1V"
      },
      "outputs": [],
      "source": [
        ""
      ]
    },
    {
      "cell_type": "markdown",
      "metadata": {
        "id": "GbQlnyg24e1W"
      },
      "source": [
        "#### NaN, 데이터 타입, 개수 확인"
      ]
    },
    {
      "cell_type": "code",
      "execution_count": null,
      "metadata": {
        "id": "g8PKDcaz4e1X"
      },
      "outputs": [],
      "source": [
        ""
      ]
    },
    {
      "cell_type": "markdown",
      "metadata": {
        "id": "g9ygCAgD4e1Z"
      },
      "source": [
        "#### 통계값 확인"
      ]
    },
    {
      "cell_type": "code",
      "execution_count": null,
      "metadata": {
        "id": "esq2d2bT4e1a"
      },
      "outputs": [],
      "source": [
        ""
      ]
    },
    {
      "cell_type": "markdown",
      "metadata": {
        "id": "nzcQdCsW4e1b"
      },
      "source": [
        "#### quality의 unique 확인"
      ]
    },
    {
      "cell_type": "code",
      "execution_count": null,
      "metadata": {
        "id": "JYYXOdB04e1c",
        "scrolled": true
      },
      "outputs": [],
      "source": [
        ""
      ]
    },
    {
      "cell_type": "markdown",
      "metadata": {
        "id": "RvZkEjv24e1e"
      },
      "source": [
        "#### quality별로 개수 확인"
      ]
    },
    {
      "cell_type": "code",
      "execution_count": null,
      "metadata": {
        "id": "F5F7I1rC4e1e"
      },
      "outputs": [],
      "source": [
        ""
      ]
    },
    {
      "cell_type": "markdown",
      "metadata": {
        "id": "3WYBcpZM4e1g"
      },
      "source": [
        "#### 중요하다고 생각되는 부분만 추출"
      ]
    },
    {
      "cell_type": "code",
      "execution_count": null,
      "metadata": {
        "id": "8mKgcEI74e1h"
      },
      "outputs": [],
      "source": [
        "df=data[['quality','residual sugar','pH','alcohol','type']]\n",
        "df.head(5)"
      ]
    },
    {
      "cell_type": "markdown",
      "metadata": {
        "id": "mBNCkFUG4e1i"
      },
      "source": [
        "#### groupby를 통해 quality로 묶고 통계값(min,mean,max) 확인"
      ]
    },
    {
      "cell_type": "code",
      "execution_count": null,
      "metadata": {
        "id": "GsqC139n4e1j"
      },
      "outputs": [],
      "source": [
        ""
      ]
    },
    {
      "cell_type": "markdown",
      "metadata": {
        "id": "pAn-xWj94e1k"
      },
      "source": [
        "#### groupby를 통해 quality/type로 묶고 개수 세기"
      ]
    },
    {
      "cell_type": "code",
      "execution_count": null,
      "metadata": {
        "id": "u9sciwM04e1l"
      },
      "outputs": [],
      "source": [
        ""
      ]
    },
    {
      "cell_type": "markdown",
      "metadata": {
        "id": "bW4w6QwY4e1m"
      },
      "source": [
        "#### 알코올 함량을 기준으로 오름차순 정리 (20개)"
      ]
    },
    {
      "cell_type": "code",
      "execution_count": null,
      "metadata": {
        "id": "PTQC1M3T4e1n"
      },
      "outputs": [],
      "source": [
        ""
      ]
    },
    {
      "cell_type": "markdown",
      "metadata": {
        "id": "pDGnOj__4e1o"
      },
      "source": [
        "#### 알코올 함량을 기준으로 내림차순 정리 (20개)"
      ]
    },
    {
      "cell_type": "code",
      "execution_count": null,
      "metadata": {
        "id": "26hzjbij4e1p"
      },
      "outputs": [],
      "source": [
        ""
      ]
    },
    {
      "cell_type": "markdown",
      "metadata": {
        "id": "RhGFNSz94e1q"
      },
      "source": [
        "#### quailty가 7 이상인 데이터 추출 (20개)"
      ]
    },
    {
      "cell_type": "code",
      "execution_count": null,
      "metadata": {
        "id": "eq8GzpZ84e1r"
      },
      "outputs": [],
      "source": [
        ""
      ]
    },
    {
      "cell_type": "markdown",
      "metadata": {
        "id": "a_ZjAXk-4e1s"
      },
      "source": [
        "#### alcohol을 기준으로 10도가 넘으면 'strong' 아니면 'weak'으로 표시 (lambda 쓰세요)"
      ]
    },
    {
      "cell_type": "code",
      "execution_count": null,
      "metadata": {
        "id": "_K4u9p3m4e1s"
      },
      "outputs": [],
      "source": [
        ""
      ]
    },
    {
      "cell_type": "markdown",
      "metadata": {
        "id": "2QVnh_4F4e1t"
      },
      "source": [
        "#### merge 실습을 위해 데이터를 인위적으로 나눠볼게요"
      ]
    },
    {
      "cell_type": "code",
      "execution_count": null,
      "metadata": {
        "id": "Yg4caILu4e1v"
      },
      "outputs": [],
      "source": [
        "df_x = data[['quality', 'fixed acidity', 'citric acid']]"
      ]
    },
    {
      "cell_type": "code",
      "execution_count": null,
      "metadata": {
        "id": "VUTHRRpc4e1w"
      },
      "outputs": [],
      "source": [
        "df_y = data[['quality', 'volatile acidity', 'chlorides', 'alcohol']]"
      ]
    },
    {
      "cell_type": "code",
      "source": [
        "df_y = df_y[df_y.quality >= 7]"
      ],
      "metadata": {
        "id": "jNXI7crFf8zE"
      },
      "execution_count": null,
      "outputs": []
    },
    {
      "cell_type": "markdown",
      "metadata": {
        "id": "2d6udaGX4e1x"
      },
      "source": [
        "#### quality를 기준으로 inner join"
      ]
    },
    {
      "cell_type": "code",
      "execution_count": null,
      "metadata": {
        "id": "IyASKBxl4e1y",
        "scrolled": true
      },
      "outputs": [],
      "source": [
        ""
      ]
    },
    {
      "cell_type": "markdown",
      "metadata": {
        "id": "uanhvZ8g4e1z"
      },
      "source": [
        "#### quality를 기준으로 outer join"
      ]
    },
    {
      "cell_type": "code",
      "execution_count": null,
      "metadata": {
        "id": "jb85H15k4e10",
        "scrolled": false
      },
      "outputs": [],
      "source": [
        ""
      ]
    },
    {
      "cell_type": "markdown",
      "metadata": {
        "id": "TQdW5j8A66au"
      },
      "source": [
        "<br>수고하셨습니다! 넘파이와 판다스는 기능이 정말 많아서 이번 세션에서 다 다루진 못했습니다..! <br>\n",
        "하지만 우리에겐 구글이 있죠 😎 <br>\n",
        "무수한 블로그와 스택오버플로우를 뒤지다 보면 필요한 기능을 찾으실 수 있습니다<br>\n",
        "직접 데이터를 만져보면서 여러 함수들을 써보면 저절로 넘파이와 판다스가 손에 익으실 거에요! :)<br>"
      ]
    },
    {
      "cell_type": "code",
      "execution_count": null,
      "metadata": {
        "id": "HLmrsyiR66av"
      },
      "outputs": [],
      "source": [
        ""
      ]
    }
  ],
  "metadata": {
    "accelerator": "GPU",
    "colab": {
      "name": "pdnp_과제 .ipynb",
      "provenance": [],
      "collapsed_sections": [],
      "include_colab_link": true
    },
    "kernelspec": {
      "display_name": "Python 3",
      "language": "python",
      "name": "python3"
    },
    "language_info": {
      "codemirror_mode": {
        "name": "ipython",
        "version": 3
      },
      "file_extension": ".py",
      "mimetype": "text/x-python",
      "name": "python",
      "nbconvert_exporter": "python",
      "pygments_lexer": "ipython3",
      "version": "3.8.8"
    },
    "varInspector": {
      "cols": {
        "lenName": 16,
        "lenType": 16,
        "lenVar": 40
      },
      "kernels_config": {
        "python": {
          "delete_cmd_postfix": "",
          "delete_cmd_prefix": "del ",
          "library": "var_list.py",
          "varRefreshCmd": "print(var_dic_list())"
        },
        "r": {
          "delete_cmd_postfix": ") ",
          "delete_cmd_prefix": "rm(",
          "library": "var_list.r",
          "varRefreshCmd": "cat(var_dic_list()) "
        }
      },
      "types_to_exclude": [
        "module",
        "function",
        "builtin_function_or_method",
        "instance",
        "_Feature"
      ],
      "window_display": false
    }
  },
  "nbformat": 4,
  "nbformat_minor": 0
}